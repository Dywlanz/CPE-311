{
  "nbformat": 4,
  "nbformat_minor": 0,
  "metadata": {
    "colab": {
      "provenance": []
    },
    "kernelspec": {
      "name": "python3",
      "display_name": "Python 3"
    },
    "language_info": {
      "name": "python"
    }
  },
  "cells": [
    {
      "cell_type": "markdown",
      "source": [
        "#Hands on Activity 8.1\n"
      ],
      "metadata": {
        "id": "i2wxQSyeRlxE"
      }
    },
    {
      "cell_type": "code",
      "source": [
        "# for creating the data directory which is stated\n",
        "# one must import os then use makedirs() to create directory\n",
        "import os\n",
        "\n",
        "# create data directory if doesn't exist\n",
        "os.makedirs('data', exist_ok=True)"
      ],
      "metadata": {
        "id": "cbPzVaQecP2-"
      },
      "execution_count": null,
      "outputs": []
    },
    {
      "cell_type": "code",
      "execution_count": null,
      "metadata": {
        "id": "JuUw14doRVkh"
      },
      "outputs": [],
      "source": [
        "# the usual import of requests\n",
        "import requests\n",
        "def make_request(endpoint, payload=None):\n",
        "    \"\"\"\n",
        "    Make a request to a specific endpoint on the weather API\n",
        "    passing headers and optional payload.\n",
        "\n",
        "    Parameters:\n",
        "        - endpoint: The endpoint of the API you want to\n",
        "                    make a GET request to.\n",
        "        - payload: A dictionary of data to pass along\n",
        "                   with the request.\n",
        "\n",
        "    Returns:\n",
        "        Response object.\n",
        "    \"\"\"\n",
        "    return requests.get(\n",
        "        f'https://www.ncdc.noaa.gov/cdo-web/api/v2/{endpoint}',\n",
        "        headers={\n",
        "            'token': 'zVKGhvsaEJxUSbmXMizCLbJbGdQYMcIh'\n",
        "        },\n",
        "        params = payload\n",
        "    )"
      ]
    },
    {
      "cell_type": "code",
      "source": [
        "import datetime\n",
        "from IPython import display # for updating the cell dynamically\n",
        "current = datetime.date(2018, 1, 1)\n",
        "end = datetime.date(2019, 1, 1)\n",
        "results = [] # assign empty list for results\n",
        "while current < end: # this will loop until it reaches the end date\n",
        "   # update the cell with status information\n",
        "   display.clear_output(wait=True)\n",
        "   display.display(f'Gathering data for {str(current)}')\n",
        "\n",
        "   response = make_request(\n",
        "       'data',\n",
        "       {\n",
        "           'datasetid' : 'GHCND', # Global Historical Climatology Network - Daily (GHCND) dataset\n",
        "           'locationid' : 'CITY:US360019', # NYC\n",
        "           'startdate' : current,\n",
        "           'enddate' : current,\n",
        "           'units' : 'metric',\n",
        "           'limit' : 1000 # max allowed\n",
        "       }\n",
        "   )\n",
        "   if response.ok:\n",
        "       # we extend the list instead of appending to avoid getting a nested list\n",
        "       results.extend(response.json()['results'])\n",
        "   # update the current date to avoid an infinite loop\n",
        "   current += datetime.timedelta(days=1)"
      ],
      "metadata": {
        "colab": {
          "base_uri": "https://localhost:8080/",
          "height": 35
        },
        "id": "MKPGVR93S3fN",
        "outputId": "9111e9fd-5c7f-4eba-e4b1-fd5a059178fb"
      },
      "execution_count": null,
      "outputs": [
        {
          "output_type": "display_data",
          "data": {
            "text/plain": [
              "'Gathering data for 2018-12-31'"
            ],
            "application/vnd.google.colaboratory.intrinsic+json": {
              "type": "string"
            }
          },
          "metadata": {}
        }
      ]
    },
    {
      "cell_type": "code",
      "source": [
        "# first 5 rows of results\n",
        "import pandas as pd\n",
        "df = pd.DataFrame(results)\n",
        "df.head()"
      ],
      "metadata": {
        "colab": {
          "base_uri": "https://localhost:8080/",
          "height": 263
        },
        "id": "DxaYZxhPT2As",
        "outputId": "5145b252-0de2-411b-bc5b-db4a126925f1"
      },
      "execution_count": null,
      "outputs": [
        {
          "output_type": "error",
          "ename": "NameError",
          "evalue": "name 'results' is not defined",
          "traceback": [
            "\u001b[0;31m---------------------------------------------------------------------------\u001b[0m",
            "\u001b[0;31mNameError\u001b[0m                                 Traceback (most recent call last)",
            "\u001b[0;32m<ipython-input-1-7526d1212ab4>\u001b[0m in \u001b[0;36m<cell line: 3>\u001b[0;34m()\u001b[0m\n\u001b[1;32m      1\u001b[0m \u001b[0;31m# first 5 rows of results\u001b[0m\u001b[0;34m\u001b[0m\u001b[0;34m\u001b[0m\u001b[0m\n\u001b[1;32m      2\u001b[0m \u001b[0;32mimport\u001b[0m \u001b[0mpandas\u001b[0m \u001b[0;32mas\u001b[0m \u001b[0mpd\u001b[0m\u001b[0;34m\u001b[0m\u001b[0;34m\u001b[0m\u001b[0m\n\u001b[0;32m----> 3\u001b[0;31m \u001b[0mdf\u001b[0m \u001b[0;34m=\u001b[0m \u001b[0mpd\u001b[0m\u001b[0;34m.\u001b[0m\u001b[0mDataFrame\u001b[0m\u001b[0;34m(\u001b[0m\u001b[0mresults\u001b[0m\u001b[0;34m)\u001b[0m\u001b[0;34m\u001b[0m\u001b[0;34m\u001b[0m\u001b[0m\n\u001b[0m\u001b[1;32m      4\u001b[0m \u001b[0mdf\u001b[0m\u001b[0;34m.\u001b[0m\u001b[0mhead\u001b[0m\u001b[0;34m(\u001b[0m\u001b[0;34m)\u001b[0m\u001b[0;34m\u001b[0m\u001b[0;34m\u001b[0m\u001b[0m\n",
            "\u001b[0;31mNameError\u001b[0m: name 'results' is not defined"
          ]
        }
      ]
    },
    {
      "cell_type": "code",
      "source": [
        "# create a csv file for extracted data\n",
        "df.to_csv('data/nyc_weather_2018.csv', index=False)"
      ],
      "metadata": {
        "id": "IF0aAHOuUz_y"
      },
      "execution_count": null,
      "outputs": []
    },
    {
      "cell_type": "code",
      "source": [
        "import sqlite3\n",
        "with sqlite3.connect('data/weather.db') as connection:\n",
        "   df.to_sql(\n",
        "       'weather', connection, index=False, if_exists='replace'\n",
        "   )"
      ],
      "metadata": {
        "id": "plL7FU7UU4iJ"
      },
      "execution_count": null,
      "outputs": []
    },
    {
      "cell_type": "code",
      "source": [
        "response = make_request(\n",
        "   'stations',\n",
        "   {\n",
        "       'datasetid' : 'GHCND', # Global Historical Climatology Network - Daily (GHCND) dataset\n",
        "       'locationid' : 'CITY:US360019', # NYC\n",
        "       'limit' : 1000 # max allowed\n",
        "   }\n",
        ")\n",
        "# this creates a dataframe from the API\n",
        "stations = pd.DataFrame(response.json()['results'])[['id', 'name', 'latitude', 'longitude', 'elevation']]\n",
        "# create csv file for stations\n",
        "stations.to_csv('data/weather_stations.csv', index=False)\n",
        "\n",
        "# use weather.db as database\n",
        "with sqlite3.connect('data/weather.db') as connection:\n",
        "  stations.to_sql(\n",
        "    'stations', connection, index=False, if_exists='replace'\n",
        "  )"
      ],
      "metadata": {
        "id": "t78HCNFRVeDa"
      },
      "execution_count": null,
      "outputs": []
    }
  ]
}