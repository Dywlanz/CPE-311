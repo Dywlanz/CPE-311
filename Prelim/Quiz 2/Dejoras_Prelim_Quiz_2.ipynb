{
  "nbformat": 4,
  "nbformat_minor": 0,
  "metadata": {
    "colab": {
      "provenance": []
    },
    "kernelspec": {
      "name": "python3",
      "display_name": "Python 3"
    },
    "language_info": {
      "name": "python"
    }
  },
  "cells": [
    {
      "cell_type": "markdown",
      "source": [
        "#Preliminary Quiz 2"
      ],
      "metadata": {
        "id": "ySs0gp0ZDQNt"
      }
    },
    {
      "cell_type": "code",
      "execution_count": null,
      "metadata": {
        "colab": {
          "base_uri": "https://localhost:8080/"
        },
        "id": "-GJTByIiBeK5",
        "outputId": "6a0b985b-0e82-43af-e19c-849e5c25f049"
      },
      "outputs": [
        {
          "name": "stdout",
          "output_type": "stream",
          "text": [
            "Enter number of types of coin denominations: 3\n",
            "Enter amount of money:20\n",
            "Enter 3 coins: 2\n",
            "Enter 3 coins: 4\n",
            "Enter 3 coins: 6\n"
          ]
        },
        {
          "output_type": "execute_result",
          "data": {
            "text/plain": [
              "8"
            ]
          },
          "metadata": {},
          "execution_count": 13
        }
      ],
      "source": [
        "# bottom-up approach\n",
        "n = int(input(\"Enter number of types of coin denominations: \"))\n",
        "c = int(input(\"Enter amount of money:\"))\n",
        "def MakingChange(n):\n",
        "  change = []\n",
        "  total = 0\n",
        "  for i in range(1, n+1):\n",
        "      coins = int(input(f\"Enter {n} coins: \"))\n",
        "      total += coins\n",
        "\n",
        "  change = c - total\n",
        "  return change\n",
        "\n",
        "MakingChange(n)"
      ]
    }
  ]
}