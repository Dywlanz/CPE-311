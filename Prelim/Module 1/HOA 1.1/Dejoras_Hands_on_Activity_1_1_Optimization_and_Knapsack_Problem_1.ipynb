{
  "cells": [
    {
      "cell_type": "markdown",
      "id": "193686ba",
      "metadata": {
        "id": "193686ba"
      },
      "source": [
        "# Hands-on Activity 1.1 | Optimization and Knapsack Problem"
      ]
    },
    {
      "cell_type": "markdown",
      "id": "8d87e989",
      "metadata": {
        "id": "8d87e989"
      },
      "source": [
        "#### Objective(s):\n",
        "\n",
        "This activity aims to demonstrate how to apply  greedy and brute force algorithms to solve optimization problems"
      ]
    },
    {
      "cell_type": "markdown",
      "id": "7717a27a",
      "metadata": {
        "id": "7717a27a"
      },
      "source": [
        "#### Intended Learning Outcomes (ILOs):\n",
        "* Demonstrate how to solve knapsacks problems using greedy algorithm\n",
        "* Demonstrate how to  solve knapsacks problems using brute force algorithm\n"
      ]
    },
    {
      "cell_type": "markdown",
      "id": "6454cfe7",
      "metadata": {
        "id": "6454cfe7"
      },
      "source": [
        "#### Resources:\n",
        "* Jupyter Notebook\n"
      ]
    },
    {
      "cell_type": "markdown",
      "id": "433711ac",
      "metadata": {
        "id": "433711ac"
      },
      "source": [
        "#### Procedures:"
      ]
    },
    {
      "cell_type": "markdown",
      "id": "e54a8995",
      "metadata": {
        "id": "e54a8995"
      },
      "source": [
        "1. Create a Food class that defines the following:\n",
        "* name of the food\n",
        "* value of the food\n",
        "* calories of the food\n",
        "\n",
        "2. Create the following methods inside the Food class:\n",
        "* A method that returns the value of the food\n",
        "* A method that returns the cost of the food\n",
        "* A method that calculates the density of the food (Value / Cost)\n",
        "* A method that returns a string to display the name, value and calories of the food"
      ]
    },
    {
      "cell_type": "code",
      "execution_count": null,
      "id": "cdd8310c",
      "metadata": {
        "id": "cdd8310c"
      },
      "outputs": [],
      "source": [
        "class Food(object):\n",
        "    def __init__(self, n, v, w, x):\n",
        "        self.name = n\n",
        "        self.value = v\n",
        "        self.calories = w\n",
        "        self.weight = x\n",
        "    def getValue(self):\n",
        "        return self.value\n",
        "    def getCost(self):\n",
        "        return self.calories\n",
        "    def getWeight(self):\n",
        "        return self.weight\n",
        "    def density(self):\n",
        "        return self.getValue()/self.getCost()\n",
        "    def __str__(self):\n",
        "        return self.name + ': <' + str(self.value)+ ', ' + str(self.calories) + '>'"
      ]
    },
    {
      "cell_type": "markdown",
      "id": "b36eee15",
      "metadata": {
        "id": "b36eee15"
      },
      "source": [
        "3. Create a buildMenu method that builds the name, value and calories of the food\n"
      ]
    },
    {
      "cell_type": "code",
      "execution_count": null,
      "id": "509672a4",
      "metadata": {
        "id": "509672a4"
      },
      "outputs": [],
      "source": [
        "def buildMenu(names, values, calories, weight):\n",
        "    menu = []\n",
        "    for i in range(len(values)):\n",
        "        menu.append(Food(names[i], values[i],calories[i], weight[i]))\n",
        "    return menu"
      ]
    },
    {
      "cell_type": "markdown",
      "id": "86f3a85b",
      "metadata": {
        "id": "86f3a85b"
      },
      "source": [
        "4. Create a method greedy to return total value and cost of added food based on the desired maximum cost"
      ]
    },
    {
      "cell_type": "code",
      "execution_count": null,
      "id": "b76912f0",
      "metadata": {
        "id": "b76912f0"
      },
      "outputs": [],
      "source": [
        "def greedy(items, maxCost, keyFunction):\n",
        "    \"\"\"Assumes items a list, maxCost >= 0,         keyFunction maps elements of items to numbers\"\"\"\n",
        "    itemsCopy = sorted(items, key = keyFunction,\n",
        "                       reverse = True)\n",
        "    result = []\n",
        "    totalValue, totalCost, totalWeight = 0.0, 0.0, 0.0\n",
        "    for i in range(len(itemsCopy)):\n",
        "        if (totalCost+itemsCopy[i].getCost()) <= maxCost:\n",
        "            result.append(itemsCopy[i])\n",
        "            totalCost += itemsCopy[i].getCost()\n",
        "            totalValue += itemsCopy[i].getValue()\n",
        "            totalWeight += itemsCopy[i].getWeight()\n",
        "    return (result, totalValue)"
      ]
    },
    {
      "cell_type": "markdown",
      "id": "887c566c",
      "metadata": {
        "id": "887c566c"
      },
      "source": [
        "5. Create a testGreedy method to test the greedy method"
      ]
    },
    {
      "cell_type": "code",
      "execution_count": null,
      "id": "61f2a7b0",
      "metadata": {
        "id": "61f2a7b0"
      },
      "outputs": [],
      "source": [
        "def testGreedy(items, constraint, keyFunction):\n",
        "    taken, val = greedy(items, constraint, keyFunction)\n",
        "    print('Total value of items taken =', val)\n",
        "    for item in taken:\n",
        "        print('   ', item)"
      ]
    },
    {
      "cell_type": "code",
      "execution_count": null,
      "id": "f93e5bfe",
      "metadata": {
        "id": "f93e5bfe"
      },
      "outputs": [],
      "source": [
        "def testGreedys(foods, maxUnits):\n",
        "    print('Use greedy by value to allocate', maxUnits,          'calories')\n",
        "    testGreedy(foods, maxUnits, Food.getValue)\n",
        "    print('\\nUse greedy by cost to allocate', maxUnits,          'calories')\n",
        "    testGreedy(foods, maxUnits, lambda x: 1/Food.getCost(x))\n",
        "    print('\\nUse greedy by density to allocate', maxUnits,          'calories')\n",
        "    testGreedy(foods, maxUnits, Food.density)\n",
        "    print('\\nUse greedy by weight to allocate', maxUnits,          'calories')\n",
        "    testGreedy(foods, maxUnits, Food.getWeight)"
      ]
    },
    {
      "cell_type": "markdown",
      "id": "cdf99f37",
      "metadata": {
        "id": "cdf99f37"
      },
      "source": [
        "6. Create arrays of food name, values and calories\n",
        "7. Call the buildMenu to create menu for food\n",
        "8. Use testGreedys method to pick food according to the desired calories"
      ]
    },
    {
      "cell_type": "code",
      "execution_count": null,
      "id": "ee22c2dd",
      "metadata": {
        "id": "ee22c2dd",
        "outputId": "b56a40e4-4501-488e-969e-e86d6f7ac6b0",
        "colab": {
          "base_uri": "https://localhost:8080/"
        }
      },
      "outputs": [
        {
          "output_type": "stream",
          "name": "stdout",
          "text": [
            "Allocate  2000 pesos by value using greedy\n",
            "Total value of games taken = 150.0\n",
            "  Palworld has a value of 80 to the buyer and costs 910 pesos\n",
            "  GTA V has a value of 70 to the buyer and costs 635.91 pesos\n",
            "Total amount of games bought = 1545.9099999999999  pesos\n",
            "2454 is your change when rounded off.\n",
            "Allocate  2000 pesos by cost using greedy\n",
            "Total value of games taken = 110.0\n",
            "  GTA V has a value of 70 to the buyer and costs 635.91 pesos\n",
            "  The Outlast Trials has a value of 40 to the buyer and costs 682.5 pesos\n",
            "Total amount of games bought = 1318.4099999999999  pesos\n",
            "2682 is your change when rounded off.\n"
          ]
        }
      ],
      "source": [
        "names = ['wine', 'beer', 'pizza', 'burger', 'fries','cola', 'apple', 'donut', 'cake']\n",
        "values = [89,90,95,100,90,79,50,10]\n",
        "calories = [123,154,258,354,365,150,95,195]\n",
        "weight = [350, 300, 1000, 120, 150, 200, 100, 30]\n",
        "foods = buildMenu(names, values, calories, weight)\n",
        "testGreedys(foods, 2000) # an updated output"
      ]
    },
    {
      "cell_type": "markdown",
      "id": "a6bae808",
      "metadata": {
        "id": "a6bae808"
      },
      "source": [
        "Task 1: Change the maxUnits to 100"
      ]
    },
    {
      "cell_type": "code",
      "execution_count": null,
      "id": "3c9655c5",
      "metadata": {
        "id": "3c9655c5",
        "colab": {
          "base_uri": "https://localhost:8080/"
        },
        "outputId": "9f8bf80e-09c5-4900-ef0e-a5adb34a61d7"
      },
      "outputs": [
        {
          "output_type": "stream",
          "name": "stdout",
          "text": [
            "Use greedy by value to allocate 100 calories\n",
            "Total value of items taken = 50.0\n",
            "    apple: <50, 95>\n",
            "\n",
            "Use greedy by cost to allocate 100 calories\n",
            "Total value of items taken = 50.0\n",
            "    apple: <50, 95>\n",
            "\n",
            "Use greedy by density to allocate 100 calories\n",
            "Total value of items taken = 50.0\n",
            "    apple: <50, 95>\n"
          ]
        }
      ],
      "source": [
        "#type your code here\n",
        "testGreedys(foods, 100)\n"
      ]
    },
    {
      "cell_type": "markdown",
      "id": "d13f4bdc",
      "metadata": {
        "id": "d13f4bdc"
      },
      "source": [
        "Task 2: Modify codes to add additional weight (criterion) to select food items."
      ]
    },
    {
      "cell_type": "code",
      "execution_count": null,
      "id": "61fd22fa",
      "metadata": {
        "id": "61fd22fa"
      },
      "outputs": [],
      "source": [
        "# type your code here\n",
        "# all comments direct the modifications\n",
        "class Food(object):\n",
        "    def __init__(self, n, v, w, x):\n",
        "        # make variables private\n",
        "        self.__name = n\n",
        "        self.__value = v\n",
        "        self.__calories = w\n",
        "        self.__weight = x # added weight variable\n",
        "    def getValue(self):\n",
        "        return self.value\n",
        "    def getCost(self):\n",
        "        return self.calories\n",
        "    def getWeight(self): # added method for returning weight\n",
        "        return self.weight\n",
        "    def density(self):\n",
        "        return self.getValue()/self.getCost()\n",
        "    def __str__(self):\n",
        "        return self.name + ': <' + str(self.value)+ ', ' + str(self.calories) + '>'\n",
        "\n",
        "def buildMenu(names, values, calories, weight):\n",
        "    menu = []\n",
        "    for i in range(len(values)):\n",
        "        menu.append(Food(names[i], values[i],calories[i], weight[i])) # including weight in the criteria of food menu\n",
        "    return menu\n",
        "\n",
        "def greedy(items, maxCost, keyFunction):\n",
        "    \"\"\"Assumes items a list, maxCost >= 0,         keyFunction maps elements of items to numbers\"\"\"\n",
        "    itemsCopy = sorted(items, key = keyFunction,\n",
        "                       reverse = True)\n",
        "    result = []\n",
        "    totalValue, totalCost, totalWeight = 0.0, 0.0, 0.0\n",
        "    for i in range(len(itemsCopy)):\n",
        "        if (totalCost+itemsCopy[i].getCost()) <= maxCost:\n",
        "            result.append(itemsCopy[i])\n",
        "            totalCost += itemsCopy[i].getCost()\n",
        "            totalValue += itemsCopy[i].getValue()\n",
        "            totalWeight += itemsCopy[i].getWeight() # added getter of total for weight\n",
        "    return (result, totalValue)\n",
        "\n",
        "def testGreedys(foods, maxUnits):\n",
        "    print('Use greedy by value to allocate', maxUnits,          'calories')\n",
        "    testGreedy(foods, maxUnits, Food.getValue)\n",
        "    print('\\nUse greedy by cost to allocate', maxUnits,          'calories')\n",
        "    testGreedy(foods, maxUnits, lambda x: 1/Food.getCost(x))\n",
        "    print('\\nUse greedy by density to allocate', maxUnits,          'calories')\n",
        "    testGreedy(foods, maxUnits, Food.density)\n",
        "    print('\\nUse greedy by weight to allocate', maxUnits,          'calories')\n",
        "    testGreedy(foods, maxUnits, Food.getWeight) # added function in which food weight is sorted in reverse order as well\n",
        "\n",
        "weight = [350, 300, 1000, 120, 150, 200, 100, 30] # assigning weights to the foods"
      ]
    },
    {
      "cell_type": "markdown",
      "id": "ba95a8c6",
      "metadata": {
        "id": "ba95a8c6"
      },
      "source": [
        "Task 3: Test your modified code to test the greedy algorithm to select food items with your additional weight."
      ]
    },
    {
      "cell_type": "code",
      "execution_count": null,
      "id": "9d9b25c1",
      "metadata": {
        "id": "9d9b25c1",
        "colab": {
          "base_uri": "https://localhost:8080/"
        },
        "outputId": "d0c078de-f5e8-4d5b-9dd4-3a854b3a6228"
      },
      "outputs": [
        {
          "output_type": "stream",
          "name": "stdout",
          "text": [
            "Use greedy by value to allocate 2000 calories\n",
            "Total value of items taken = 603.0\n",
            "    burger: <100, 354>\n",
            "    pizza: <95, 258>\n",
            "    beer: <90, 154>\n",
            "    fries: <90, 365>\n",
            "    wine: <89, 123>\n",
            "    cola: <79, 150>\n",
            "    apple: <50, 95>\n",
            "    donut: <10, 195>\n",
            "\n",
            "Use greedy by cost to allocate 2000 calories\n",
            "Total value of items taken = 603.0\n",
            "    apple: <50, 95>\n",
            "    wine: <89, 123>\n",
            "    cola: <79, 150>\n",
            "    beer: <90, 154>\n",
            "    donut: <10, 195>\n",
            "    pizza: <95, 258>\n",
            "    burger: <100, 354>\n",
            "    fries: <90, 365>\n",
            "\n",
            "Use greedy by density to allocate 2000 calories\n",
            "Total value of items taken = 603.0\n",
            "    wine: <89, 123>\n",
            "    beer: <90, 154>\n",
            "    cola: <79, 150>\n",
            "    apple: <50, 95>\n",
            "    pizza: <95, 258>\n",
            "    burger: <100, 354>\n",
            "    fries: <90, 365>\n",
            "    donut: <10, 195>\n",
            "\n",
            "Use greedy by weight to allocate 2000 calories\n",
            "Total value of items taken = 603.0\n",
            "    pizza: <95, 258>\n",
            "    wine: <89, 123>\n",
            "    beer: <90, 154>\n",
            "    cola: <79, 150>\n",
            "    fries: <90, 365>\n",
            "    burger: <100, 354>\n",
            "    apple: <50, 95>\n",
            "    donut: <10, 195>\n"
          ]
        }
      ],
      "source": [
        "# type your code here\\\n",
        "testGreedys(foods, 2000) # the addition is in the 4th allocation of 2000 calories in which pizza is the heaviest and donut is the lightest"
      ]
    },
    {
      "cell_type": "markdown",
      "id": "1baef0aa",
      "metadata": {
        "id": "1baef0aa"
      },
      "source": [
        "9. Create method to use  Bruteforce algorithm instead of greedy algorithm"
      ]
    },
    {
      "cell_type": "code",
      "execution_count": null,
      "id": "3f61953e",
      "metadata": {
        "id": "3f61953e"
      },
      "outputs": [],
      "source": [
        "def maxVal(toConsider, avail):\n",
        "    \"\"\"Assumes toConsider a list of items, avail a weight\n",
        "       Returns a tuple of the total value of a solution to the\n",
        "         0/1 knapsack problem and the items of that solution\"\"\"\n",
        "    if toConsider == [] or avail == 0:\n",
        "        result = (0, ())\n",
        "    elif toConsider[0].getCost() > avail:\n",
        "        #Explore right branch only\n",
        "        result = maxVal(toConsider[1:], avail)\n",
        "    else:\n",
        "        nextItem = toConsider[0]\n",
        "        #Explore left branch\n",
        "        withVal, withToTake = maxVal(toConsider[1:],\n",
        "                                     avail - nextItem.getCost())\n",
        "        withVal += nextItem.getValue()\n",
        "        #Explore right branch\n",
        "        withoutVal, withoutToTake = maxVal(toConsider[1:], avail)\n",
        "        #Choose better branch\n",
        "        if withVal > withoutVal:\n",
        "            result = (withVal, withToTake + (nextItem,))\n",
        "        else:\n",
        "            result = (withoutVal, withoutToTake)\n",
        "    return result"
      ]
    },
    {
      "cell_type": "code",
      "execution_count": null,
      "id": "601e6dfe",
      "metadata": {
        "id": "601e6dfe"
      },
      "outputs": [],
      "source": [
        "def testMaxVal(foods, maxUnits, printItems = True):\n",
        "    print('Use search tree to allocate', maxUnits,\n",
        "          'calories')\n",
        "    val, taken = maxVal(foods, maxUnits)\n",
        "    print('Total costs of foods taken =', val)\n",
        "    if printItems:\n",
        "        for item in taken:\n",
        "            print('  ', item)"
      ]
    },
    {
      "cell_type": "code",
      "execution_count": null,
      "id": "f4c33d92",
      "metadata": {
        "id": "f4c33d92",
        "outputId": "c2e2e6ed-90f3-41fd-aa23-b4039395fefa",
        "colab": {
          "base_uri": "https://localhost:8080/"
        }
      },
      "outputs": [
        {
          "output_type": "stream",
          "name": "stdout",
          "text": [
            "Use search tree to allocate 2400 calories\n",
            "Total costs of foods taken = 603\n",
            "   donut: <10, 195>\n",
            "   apple: <50, 95>\n",
            "   cola: <79, 150>\n",
            "   fries: <90, 365>\n",
            "   burger: <100, 354>\n",
            "   pizza: <95, 258>\n",
            "   beer: <90, 154>\n",
            "   wine: <89, 123>\n"
          ]
        }
      ],
      "source": [
        "names = ['wine', 'beer', 'pizza', 'burger', 'fries','cola', 'apple', 'donut']\n",
        "values = [89,90,95,100,90,79,50,10]\n",
        "calories = [123,154,258,354,365,150,95,195]\n",
        "foods = buildMenu(names, values, calories, weight)\n",
        "testMaxVal(foods, 2400)"
      ]
    },
    {
      "cell_type": "markdown",
      "id": "5e8ee81f",
      "metadata": {
        "id": "5e8ee81f"
      },
      "source": [
        "#### Supplementary Activity:"
      ]
    },
    {
      "cell_type": "markdown",
      "id": "f7eb02e1",
      "metadata": {
        "id": "f7eb02e1"
      },
      "source": [
        "* Choose a real-world problem that solves knapsacks problem\n",
        "* Use the greedy and brute force algorithm to solve knapsacks problem\n"
      ]
    },
    {
      "cell_type": "markdown",
      "source": [
        "# Budgeting money to buy online video games\n",
        "A problem for gamers whenever there is a sale event on a gaming store."
      ],
      "metadata": {
        "id": "4qCLkykW_opZ"
      },
      "id": "4qCLkykW_opZ"
    },
    {
      "cell_type": "code",
      "source": [
        "class Game(object):\n",
        "    def __init__(self, n, v, c):\n",
        "        self.name = n\n",
        "        self.value = v\n",
        "        self.cost = c\n",
        "    def getValue(self):\n",
        "        return self.value\n",
        "    def getCost(self):\n",
        "        return self.cost\n",
        "    def density(self):\n",
        "        return self.getValue()/self.getCost()\n",
        "    def __str__(self):\n",
        "        return self.name + ' has a value of ' + str(self.value)+ ' to the buyer and costs ' + str(self.cost) + ' pesos'\n",
        "\n",
        "def buildOptions(names, values, cost):\n",
        "        options = []\n",
        "        for i in range(len(values)):\n",
        "            options.append(Game(names[i], values[i], cost[i]))\n",
        "        return options\n",
        "\n",
        "def greedy(items, maxCost, keyFunction):\n",
        "        itemsCopy = sorted(items, key = keyFunction,\n",
        "                          reverse = True)\n",
        "        result = []\n",
        "        totalValue, totalCost = 0.0, 0.0\n",
        "        for i in range(len(itemsCopy)):\n",
        "            if (totalCost+itemsCopy[i].getCost()) <= maxCost:\n",
        "                result.append(itemsCopy[i])\n",
        "                totalCost += itemsCopy[i].getCost()\n",
        "                totalValue += itemsCopy[i].getValue()\n",
        "        return (result, totalValue, totalCost)\n",
        "\n",
        "def testGreedy(items, constraint, keyFunction):\n",
        "        taken, val, amount = greedy(items, constraint, keyFunction)\n",
        "        print('Total value of games taken =', val)\n",
        "        for item in taken:\n",
        "            print(' ', item)\n",
        "        print('Total amount of games bought =', amount, 'pesos')\n",
        "        change = 4000 - amount\n",
        "        print(round(change), 'is your change when rounded off.')\n",
        "\n",
        "def testGreedyz(options, maxUnits):\n",
        "        print('Allocate', maxUnits,          'pesos by value using greedy:')\n",
        "        testGreedy(games, maxUnits, Game.getValue)\n",
        "        print()\n",
        "        print('Allocate', maxUnits,          'pesos by cost using greedy:')\n",
        "        testGreedy(games, maxUnits, lambda x: 1/Game.getCost(x))\n",
        "\n",
        "\n",
        "names = ['Tekken 8', 'GTA V', 'Rainbow Six Siege', 'Palworld', 'The Outlast Trials']\n",
        "values = [90, 70, 60, 80, 40]\n",
        "costs = [2799.95, 635.91, 750, 910, 682.5]\n",
        "games = buildOptions(names, values, costs)\n",
        "budget = input('How much is your budget: ')\n",
        "\n",
        "testGreedyz(games, float(budget))\n"
      ],
      "metadata": {
        "colab": {
          "base_uri": "https://localhost:8080/"
        },
        "id": "8m2HGiS9-Efx",
        "outputId": "18ed30ce-255e-4b95-ffe1-c4a5136302fa"
      },
      "id": "8m2HGiS9-Efx",
      "execution_count": null,
      "outputs": [
        {
          "output_type": "stream",
          "name": "stdout",
          "text": [
            "How much is your budget: 4000\n",
            "Allocate 4000.0 pesos by value using greedy:\n",
            "Total value of games taken = 170.0\n",
            "  Tekken 8 has a value of 90 to the buyer and costs 2799.95 pesos\n",
            "  Palworld has a value of 80 to the buyer and costs 910 pesos\n",
            "Total amount of games bought = 3709.95 pesos\n",
            "290 is your change when rounded off.\n",
            "\n",
            "Allocate 4000.0 pesos by cost using greedy:\n",
            "Total value of games taken = 250.0\n",
            "  GTA V has a value of 70 to the buyer and costs 635.91 pesos\n",
            "  The Outlast Trials has a value of 40 to the buyer and costs 682.5 pesos\n",
            "  Rainbow Six Siege has a value of 60 to the buyer and costs 750 pesos\n",
            "  Palworld has a value of 80 to the buyer and costs 910 pesos\n",
            "Total amount of games bought = 2978.41 pesos\n",
            "1022 is your change when rounded off.\n"
          ]
        }
      ]
    },
    {
      "cell_type": "code",
      "source": [
        "def maxVal(toConsider, avail):\n",
        "    \"\"\"Assumes toConsider a list of items, avail a weight\n",
        "       Returns a tuple of the total value of a solution to the\n",
        "         0/1 knapsack problem and the items of that solution\"\"\"\n",
        "    if toConsider == [] or avail == 0:\n",
        "        result = (0, ())\n",
        "    elif toConsider[0].getCost() > avail:\n",
        "        #Explore right branch only\n",
        "        result = maxVal(toConsider[1:], avail)\n",
        "    else:\n",
        "        nextItem = toConsider[0]\n",
        "        #Explore left branch\n",
        "        withVal, withToTake = maxVal(toConsider[1:],\n",
        "                                     avail - nextItem.getCost())\n",
        "        withVal += nextItem.getValue()\n",
        "        #Explore right branch\n",
        "        withoutVal, withoutToTake = maxVal(toConsider[1:], avail)\n",
        "        #Choose better branch\n",
        "        if withVal > withoutVal:\n",
        "            result = (withVal, withToTake + (nextItem,))\n",
        "        else:\n",
        "            result = (withoutVal, withoutToTake)\n",
        "    return result\n",
        "\n",
        "def testMaxVal(foods, maxUnits, printItems = True):\n",
        "    print('Allocate', maxUnits, 'pesos by using search tree')\n",
        "    val, taken = maxVal(foods, maxUnits)\n",
        "    print('Total value of games taken =', val)\n",
        "    if printItems:\n",
        "        for item in taken:\n",
        "            print('  ', item)\n",
        "\n",
        "names = ['Tekken 8', 'GTA V', 'Rainbow Six Siege', 'Palworld', 'The Outlast Trials']\n",
        "values = [90, 70, 60, 80, 40]\n",
        "costs = [2799.95, 635.91, 750, 910, 682.5]\n",
        "games = buildOptions(names, values, costs)\n",
        "testMaxVal(games, 4000)"
      ],
      "metadata": {
        "colab": {
          "base_uri": "https://localhost:8080/"
        },
        "id": "yLixgrp-NSB5",
        "outputId": "f6e90e60-1428-4e8f-f736-1ba373984130"
      },
      "id": "yLixgrp-NSB5",
      "execution_count": null,
      "outputs": [
        {
          "output_type": "error",
          "ename": "NameError",
          "evalue": "name 'buildOptions' is not defined",
          "traceback": [
            "\u001b[0;31m---------------------------------------------------------------------------\u001b[0m",
            "\u001b[0;31mNameError\u001b[0m                                 Traceback (most recent call last)",
            "\u001b[0;32m<ipython-input-1-1823a51145df>\u001b[0m in \u001b[0;36m<cell line: 36>\u001b[0;34m()\u001b[0m\n\u001b[1;32m     34\u001b[0m \u001b[0mvalues\u001b[0m \u001b[0;34m=\u001b[0m \u001b[0;34m[\u001b[0m\u001b[0;36m90\u001b[0m\u001b[0;34m,\u001b[0m \u001b[0;36m70\u001b[0m\u001b[0;34m,\u001b[0m \u001b[0;36m60\u001b[0m\u001b[0;34m,\u001b[0m \u001b[0;36m80\u001b[0m\u001b[0;34m,\u001b[0m \u001b[0;36m40\u001b[0m\u001b[0;34m]\u001b[0m\u001b[0;34m\u001b[0m\u001b[0;34m\u001b[0m\u001b[0m\n\u001b[1;32m     35\u001b[0m \u001b[0mcosts\u001b[0m \u001b[0;34m=\u001b[0m \u001b[0;34m[\u001b[0m\u001b[0;36m2799.95\u001b[0m\u001b[0;34m,\u001b[0m \u001b[0;36m635.91\u001b[0m\u001b[0;34m,\u001b[0m \u001b[0;36m750\u001b[0m\u001b[0;34m,\u001b[0m \u001b[0;36m910\u001b[0m\u001b[0;34m,\u001b[0m \u001b[0;36m682.5\u001b[0m\u001b[0;34m]\u001b[0m\u001b[0;34m\u001b[0m\u001b[0;34m\u001b[0m\u001b[0m\n\u001b[0;32m---> 36\u001b[0;31m \u001b[0mgames\u001b[0m \u001b[0;34m=\u001b[0m \u001b[0mbuildOptions\u001b[0m\u001b[0;34m(\u001b[0m\u001b[0mnames\u001b[0m\u001b[0;34m,\u001b[0m \u001b[0mvalues\u001b[0m\u001b[0;34m,\u001b[0m \u001b[0mcosts\u001b[0m\u001b[0;34m)\u001b[0m\u001b[0;34m\u001b[0m\u001b[0;34m\u001b[0m\u001b[0m\n\u001b[0m\u001b[1;32m     37\u001b[0m \u001b[0mtestMaxVal\u001b[0m\u001b[0;34m(\u001b[0m\u001b[0mgames\u001b[0m\u001b[0;34m,\u001b[0m \u001b[0;36m4000\u001b[0m\u001b[0;34m)\u001b[0m\u001b[0;34m\u001b[0m\u001b[0;34m\u001b[0m\u001b[0m\n",
            "\u001b[0;31mNameError\u001b[0m: name 'buildOptions' is not defined"
          ]
        }
      ]
    },
    {
      "cell_type": "markdown",
      "id": "8bbdd39c",
      "metadata": {
        "id": "8bbdd39c"
      },
      "source": [
        "# Conclusion:"
      ]
    },
    {
      "cell_type": "markdown",
      "source": [
        "\n",
        "> In order to grasp optimization, one must acknowledge that Knapsack problems are a common issue in our daily lives. Consequently, algorithms such as greedy and brute force rise to the occasion. These algorithms exist for problems to be solved using the most optimal solution or to detect the most unideal one. In conclusion, I managed to solve optimization problems by applying greedy and brute force algorithms by studying the provided code despite its complexity.\n",
        "\n",
        "\n"
      ],
      "metadata": {
        "id": "QXXQpm2nCM9Q"
      },
      "id": "QXXQpm2nCM9Q"
    }
  ],
  "metadata": {
    "kernelspec": {
      "display_name": "Python 3",
      "language": "python",
      "name": "python3"
    },
    "language_info": {
      "codemirror_mode": {
        "name": "ipython",
        "version": 3
      },
      "file_extension": ".py",
      "mimetype": "text/x-python",
      "name": "python",
      "nbconvert_exporter": "python",
      "pygments_lexer": "ipython3",
      "version": "3.7.10"
    },
    "colab": {
      "provenance": []
    }
  },
  "nbformat": 4,
  "nbformat_minor": 5
}