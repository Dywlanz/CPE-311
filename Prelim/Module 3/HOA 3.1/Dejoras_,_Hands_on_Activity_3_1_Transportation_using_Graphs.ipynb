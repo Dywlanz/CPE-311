{
  "cells": [
    {
      "cell_type": "markdown",
      "id": "32f3b9e1",
      "metadata": {
        "id": "32f3b9e1"
      },
      "source": [
        "# Hands-on Activity 3.1 | Transportation using Graphs"
      ]
    },
    {
      "cell_type": "markdown",
      "id": "a51e92c8",
      "metadata": {
        "id": "a51e92c8"
      },
      "source": [
        "#### Objective(s):\n",
        "\n",
        "This activity aims to demonstrate how to solve transportation related problem using Graphs"
      ]
    },
    {
      "cell_type": "markdown",
      "id": "3d40df8b",
      "metadata": {
        "id": "3d40df8b"
      },
      "source": [
        "#### Intended Learning Outcomes (ILOs):\n",
        "* Demonstrate how to compute the shortest path from source to destination using graphs\n",
        "* Apply DFS and BFS to compute the shortest path"
      ]
    },
    {
      "cell_type": "markdown",
      "id": "ed8f98b6",
      "metadata": {
        "id": "ed8f98b6"
      },
      "source": [
        "#### Resources:\n",
        "* Jupyter Notebook"
      ]
    },
    {
      "cell_type": "markdown",
      "id": "36301665",
      "metadata": {
        "id": "36301665"
      },
      "source": [
        "#### Procedures:"
      ]
    },
    {
      "cell_type": "markdown",
      "id": "a2f20257",
      "metadata": {
        "id": "a2f20257"
      },
      "source": [
        "1. Create a Node class"
      ]
    },
    {
      "cell_type": "code",
      "execution_count": null,
      "id": "43c51c35",
      "metadata": {
        "id": "43c51c35"
      },
      "outputs": [],
      "source": [
        "class Node(object):\n",
        "    def __init__(self, name):\n",
        "        \"\"\"Assumes name is a string\"\"\"\n",
        "        self.name = name\n",
        "    def getName(self):\n",
        "        return self.name\n",
        "    def __str__(self):\n",
        "        return self.name"
      ]
    },
    {
      "cell_type": "markdown",
      "id": "d4cd747e",
      "metadata": {
        "id": "d4cd747e"
      },
      "source": [
        "2. Create an Edge class"
      ]
    },
    {
      "cell_type": "code",
      "execution_count": null,
      "id": "b585ad3a",
      "metadata": {
        "id": "b585ad3a"
      },
      "outputs": [],
      "source": [
        "class Edge(object):\n",
        "    def __init__(self, src, dest):\n",
        "        \"\"\"Assumes src and dest are nodes\"\"\"\n",
        "        self.src = src\n",
        "        self.dest = dest\n",
        "    def getSource(self):\n",
        "        return self.src\n",
        "    def getDestination(self):\n",
        "        return self.dest\n",
        "    def __str__(self):\n",
        "        return self.src.getName() + '->' + self.dest.getName()"
      ]
    },
    {
      "cell_type": "markdown",
      "id": "43fb73dd",
      "metadata": {
        "id": "43fb73dd"
      },
      "source": [
        "3. Create Digraph class that add nodes and edges"
      ]
    },
    {
      "cell_type": "code",
      "execution_count": null,
      "id": "68d3735b",
      "metadata": {
        "id": "68d3735b"
      },
      "outputs": [],
      "source": [
        "class Digraph(object):\n",
        "    \"\"\"edges is a dict mapping each node to a list of\n",
        "    its children\"\"\"\n",
        "    def __init__(self):\n",
        "        self.edges = {}\n",
        "    def addNode(self, node):\n",
        "        if node in self.edges:\n",
        "            raise ValueError('Duplicate node')\n",
        "        else:\n",
        "            self.edges[node] = []\n",
        "    def addEdge(self, edge):\n",
        "        src = edge.getSource()\n",
        "        dest = edge.getDestination()\n",
        "        if not (src in self.edges and dest in self.edges):\n",
        "            raise ValueError('Node not in graph')\n",
        "        self.edges[src].append(dest)\n",
        "    def childrenOf(self, node):\n",
        "        return self.edges[node]\n",
        "    def hasNode(self, node):\n",
        "        return node in self.edges\n",
        "    def getNode(self, name):\n",
        "        for n in self.edges:\n",
        "            if n.getName() == name:\n",
        "                return n\n",
        "        raise NameError(name)\n",
        "    def __str__(self):\n",
        "        result = ''\n",
        "        for src in self.edges:\n",
        "            for dest in self.edges[src]:\n",
        "                result = result + src.getName() + '->'\\\n",
        "                         + dest.getName() + '\\n'\n",
        "        return result[:-1] #omit final newline"
      ]
    },
    {
      "cell_type": "markdown",
      "id": "4df80036",
      "metadata": {
        "id": "4df80036"
      },
      "source": [
        "4. Create a Graph class from Digraph class that deifnes the destination and Source"
      ]
    },
    {
      "cell_type": "code",
      "execution_count": null,
      "id": "451f786f",
      "metadata": {
        "id": "451f786f"
      },
      "outputs": [],
      "source": [
        "class Graph(Digraph):\n",
        "    def addEdge(self, edge):\n",
        "        Digraph.addEdge(self, edge)\n",
        "        rev = Edge(edge.getDestination(), edge.getSource())\n",
        "        Digraph.addEdge(self, rev)"
      ]
    },
    {
      "cell_type": "markdown",
      "id": "a1834ccf",
      "metadata": {
        "id": "a1834ccf"
      },
      "source": [
        "5. Create a buildCityGraph method to add nodes (City) and edges   (source to destination)"
      ]
    },
    {
      "cell_type": "code",
      "execution_count": null,
      "id": "048f4f16",
      "metadata": {
        "id": "048f4f16"
      },
      "outputs": [],
      "source": [
        "def buildCityGraph(graphType):\n",
        "    g = graphType()\n",
        "    for name in ('Boston', 'Providence', 'New York', 'Chicago', 'Denver', 'Phoenix', 'Los Angeles'):\n",
        "        #Create 7 nodes\n",
        "        g.addNode(Node(name))\n",
        "    g.addEdge(Edge(g.getNode('Boston'), g.getNode('Providence')))\n",
        "    g.addEdge(Edge(g.getNode('Boston'), g.getNode('New York')))\n",
        "    g.addEdge(Edge(g.getNode('Providence'), g.getNode('Boston')))\n",
        "    g.addEdge(Edge(g.getNode('Providence'), g.getNode('New York')))\n",
        "    g.addEdge(Edge(g.getNode('New York'), g.getNode('Chicago')))\n",
        "    g.addEdge(Edge(g.getNode('Chicago'), g.getNode('Denver')))\n",
        "    g.addEdge(Edge(g.getNode('Denver'), g.getNode('Phoenix')))\n",
        "    g.addEdge(Edge(g.getNode('Denver'), g.getNode('New York')))\n",
        "    g.addEdge(Edge(g.getNode('Los Angeles'), g.getNode('Boston')))\n",
        "    return g"
      ]
    },
    {
      "cell_type": "code",
      "execution_count": null,
      "id": "8172d371",
      "metadata": {
        "id": "8172d371"
      },
      "outputs": [],
      "source": [
        "def printPath(path):\n",
        "    \"\"\"Assumes path is a list of nodes\"\"\"\n",
        "    result = ''\n",
        "    for i in range(len(path)):\n",
        "        result = result + str(path[i])\n",
        "        if i != len(path) - 1:\n",
        "            result = result + '->'\n",
        "    return result"
      ]
    },
    {
      "cell_type": "markdown",
      "id": "b5d8bbe4",
      "metadata": {
        "id": "b5d8bbe4"
      },
      "source": [
        "6. Create a method to define DFS technique"
      ]
    },
    {
      "cell_type": "code",
      "execution_count": null,
      "id": "019a8c61",
      "metadata": {
        "id": "019a8c61"
      },
      "outputs": [],
      "source": [
        "def DFS(graph, start, end, path, shortest, toPrint = False):\n",
        "    \"\"\"Assumes graph is a Digraph; start and end are nodes;\n",
        "          path and shortest are lists of nodes\n",
        "       Returns a shortest path from start to end in graph\"\"\"\n",
        "    path = path + [start]\n",
        "    if toPrint:\n",
        "        print('Current DFS path:', printPath(path))\n",
        "    if start == end:\n",
        "        return path\n",
        "    for node in graph.childrenOf(start):\n",
        "        if node not in path: #avoid cycles\n",
        "            if shortest == None or len(path) < len(shortest):\n",
        "                newPath = DFS(graph, node, end, path, shortest,\n",
        "                              toPrint)\n",
        "                if newPath != None:\n",
        "                    shortest = newPath\n",
        "        elif toPrint:\n",
        "            print('Already visited', node)\n",
        "    return shortest"
      ]
    },
    {
      "cell_type": "markdown",
      "id": "9457ef55",
      "metadata": {
        "id": "9457ef55"
      },
      "source": [
        "7. Define a shortestPath method to return the shortest path from source to destination using DFS"
      ]
    },
    {
      "cell_type": "code",
      "execution_count": null,
      "id": "e435e3ce",
      "metadata": {
        "id": "e435e3ce"
      },
      "outputs": [],
      "source": [
        "def shortestPath(graph, start, end, toPrint = False):\n",
        "    \"\"\"Assumes graph is a Digraph; start and end are nodes\n",
        "       Returns a shortest path from start to end in graph\"\"\"\n",
        "    return DFS(graph, start, end, [], None, toPrint)"
      ]
    },
    {
      "cell_type": "markdown",
      "id": "084a1713",
      "metadata": {
        "id": "084a1713"
      },
      "source": [
        "8. Create a method to test the shortest path method"
      ]
    },
    {
      "cell_type": "code",
      "execution_count": null,
      "id": "4ebad313",
      "metadata": {
        "id": "4ebad313"
      },
      "outputs": [],
      "source": [
        "def testSP(source, destination):\n",
        "    g = buildCityGraph(Digraph)\n",
        "    sp = shortestPath(g, g.getNode(source), g.getNode(destination),\n",
        "                      toPrint = True)\n",
        "    if sp != None:\n",
        "        print('Shortest path from', source, 'to',\n",
        "              destination, 'is', printPath(sp))\n",
        "    else:\n",
        "        print(destination, ' could not be reached from ', source)"
      ]
    },
    {
      "cell_type": "markdown",
      "id": "397fcad6",
      "metadata": {
        "id": "397fcad6"
      },
      "source": [
        "9. Execute the testSP method"
      ]
    },
    {
      "cell_type": "code",
      "execution_count": null,
      "id": "7b0da96e",
      "metadata": {
        "id": "7b0da96e",
        "outputId": "7e314288-3b4c-4ba5-b5bc-5912f2fc9fe9",
        "colab": {
          "base_uri": "https://localhost:8080/"
        }
      },
      "outputs": [
        {
          "output_type": "stream",
          "name": "stdout",
          "text": [
            "Current DFS path: Boston\n",
            "Current DFS path: Boston->Providence\n",
            "Already visited Boston\n",
            "Current DFS path: Boston->Providence->New York\n",
            "Current DFS path: Boston->Providence->New York->Chicago\n",
            "Current DFS path: Boston->Providence->New York->Chicago->Denver\n",
            "Current DFS path: Boston->Providence->New York->Chicago->Denver->Phoenix\n",
            "Already visited New York\n",
            "Current DFS path: Boston->New York\n",
            "Current DFS path: Boston->New York->Chicago\n",
            "Current DFS path: Boston->New York->Chicago->Denver\n",
            "Current DFS path: Boston->New York->Chicago->Denver->Phoenix\n",
            "Already visited New York\n",
            "Shortest path from Boston to Phoenix is Boston->New York->Chicago->Denver->Phoenix\n"
          ]
        }
      ],
      "source": [
        "testSP('Boston', 'Phoenix')"
      ]
    },
    {
      "cell_type": "markdown",
      "id": "be62a0ea",
      "metadata": {
        "id": "be62a0ea"
      },
      "source": [
        "##### Question:\n",
        "    \n",
        "Describe the DFS method to compute for the shortest path using the given sample codes"
      ]
    },
    {
      "cell_type": "markdown",
      "source": [
        "In DFS, note that it explores as far as possible along a branch before backtracking. That is why it used a recursive approach. It is initialized by adding the start node to the path list. It will return the path if the start node is equal to the end node. DFS focuses on recursion."
      ],
      "metadata": {
        "id": "EnROysXKk_az"
      },
      "id": "EnROysXKk_az"
    },
    {
      "cell_type": "markdown",
      "id": "cb6ecea8",
      "metadata": {
        "id": "cb6ecea8"
      },
      "source": [
        "To start,"
      ]
    },
    {
      "cell_type": "markdown",
      "id": "7bec3a35",
      "metadata": {
        "id": "7bec3a35"
      },
      "source": [
        "10. Create a method to define BFS technique"
      ]
    },
    {
      "cell_type": "code",
      "execution_count": null,
      "id": "baddc3be",
      "metadata": {
        "id": "baddc3be"
      },
      "outputs": [],
      "source": [
        "def BFS(graph, start, end, toPrint = False):\n",
        "    \"\"\"Assumes graph is a Digraph; start and end are nodes\n",
        "       Returns a shortest path from start to end in graph\"\"\"\n",
        "    initPath = [start]\n",
        "    pathQueue = [initPath]\n",
        "    while len(pathQueue) != 0:\n",
        "        #Get and remove oldest element in pathQueue\n",
        "        tmpPath = pathQueue.pop(0)\n",
        "        if toPrint:\n",
        "            print('Current BFS path:', printPath(tmpPath))\n",
        "        lastNode = tmpPath[-1]\n",
        "        if lastNode == end:\n",
        "            return tmpPath\n",
        "        for nextNode in graph.childrenOf(lastNode):\n",
        "            if nextNode not in tmpPath:\n",
        "                newPath = tmpPath + [nextNode]\n",
        "                pathQueue.append(newPath)\n",
        "    return None"
      ]
    },
    {
      "cell_type": "markdown",
      "id": "050edf85",
      "metadata": {
        "id": "050edf85"
      },
      "source": [
        "11. Define a shortestPath method to return the shortest path from source to destination using BFS"
      ]
    },
    {
      "cell_type": "code",
      "execution_count": null,
      "id": "0a595716",
      "metadata": {
        "id": "0a595716"
      },
      "outputs": [],
      "source": [
        "def shortestPath(graph, start, end, toPrint = False):\n",
        "    \"\"\"Assumes graph is a Digraph; start and end are nodes\n",
        "       Returns a shortest path from start to end in graph\"\"\"\n",
        "    return BFS(graph, start, end, toPrint)"
      ]
    },
    {
      "cell_type": "markdown",
      "id": "abd00a05",
      "metadata": {
        "id": "abd00a05"
      },
      "source": [
        "12. Execute the testSP method"
      ]
    },
    {
      "cell_type": "code",
      "execution_count": null,
      "id": "a942ee6b",
      "metadata": {
        "id": "a942ee6b",
        "outputId": "ef08061b-d45e-48cc-db3c-66a305d3db86",
        "colab": {
          "base_uri": "https://localhost:8080/"
        }
      },
      "outputs": [
        {
          "output_type": "stream",
          "name": "stdout",
          "text": [
            "Current BFS path: Boston\n",
            "Current BFS path: Boston->Providence\n",
            "Current BFS path: Boston->New York\n",
            "Current BFS path: Boston->Providence->New York\n",
            "Current BFS path: Boston->New York->Chicago\n",
            "Current BFS path: Boston->Providence->New York->Chicago\n",
            "Current BFS path: Boston->New York->Chicago->Denver\n",
            "Current BFS path: Boston->Providence->New York->Chicago->Denver\n",
            "Current BFS path: Boston->New York->Chicago->Denver->Phoenix\n",
            "Shortest path from Boston to Phoenix is Boston->New York->Chicago->Denver->Phoenix\n"
          ]
        }
      ],
      "source": [
        "testSP('Boston', 'Phoenix')"
      ]
    },
    {
      "cell_type": "markdown",
      "id": "c7bbd794",
      "metadata": {
        "id": "c7bbd794"
      },
      "source": [
        "#### Question:\n",
        "    \n",
        "Describe the BFS method to compute for the shortest path using the given sample codestion:\n",
        "    "
      ]
    },
    {
      "cell_type": "markdown",
      "source": [
        "\n",
        "The BFS method implements the Breadth-First Search algorithm to discover the shortest path from a starting node to a target node in a directed graph. It utilizes a queue fo path exploration. The method returns the shortest path as a list of nodes or None if no path is found. The optional toPrint flag allows printing of intermediate steps during the traversal."
      ],
      "metadata": {
        "id": "VE8bS_uV2sdt"
      },
      "id": "VE8bS_uV2sdt"
    },
    {
      "cell_type": "markdown",
      "id": "287801ae",
      "metadata": {
        "id": "287801ae"
      },
      "source": [
        "#### Supplementary Activitiy\n",
        "* Use a specific location or city to solve transportation using graph\n",
        "* Use DFS and BFS methods to compute the shortest path\n",
        "* Display the shortest path from source to destination using DFS and BFS\n",
        "* Differentiate the performance of DFS from BFS"
      ]
    },
    {
      "cell_type": "markdown",
      "source": [
        "# Implementation of DFS and BFS in finding shortest paths in flights using 6 countries.\n"
      ],
      "metadata": {
        "id": "7QdbYmsh05em"
      },
      "id": "7QdbYmsh05em"
    },
    {
      "cell_type": "markdown",
      "source": [
        "![image.png](data:image/png;base64,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)"
      ],
      "metadata": {
        "id": "N1q-bceq01eI"
      },
      "id": "N1q-bceq01eI"
    },
    {
      "cell_type": "code",
      "source": [
        "def buildCityGraph(graphType):\n",
        "    g = graphType()\n",
        "    for name in ('Canada', 'USA', 'England', 'China', 'Japan', 'Philippines'):\n",
        "        g.addNode(Node(name))\n",
        "    g.addEdge(Edge(g.getNode('Canada'), g.getNode('USA')))\n",
        "    g.addEdge(Edge(g.getNode('Canada'), g.getNode('England')))\n",
        "    g.addEdge(Edge(g.getNode('USA'), g.getNode('Canada')))\n",
        "    g.addEdge(Edge(g.getNode('USA'), g.getNode('England')))\n",
        "    g.addEdge(Edge(g.getNode('England'), g.getNode('Canada')))\n",
        "    g.addEdge(Edge(g.getNode('England'), g.getNode('USA')))\n",
        "    g.addEdge(Edge(g.getNode('England'), g.getNode('China')))\n",
        "    g.addEdge(Edge(g.getNode('England'), g.getNode('Japan')))\n",
        "    g.addEdge(Edge(g.getNode('China'), g.getNode('England')))\n",
        "    g.addEdge(Edge(g.getNode('Japan'), g.getNode('England')))\n",
        "    g.addEdge(Edge(g.getNode('China'), g.getNode('Philippines')))\n",
        "    g.addEdge(Edge(g.getNode('Japan'), g.getNode('Philippines')))\n",
        "    g.addEdge(Edge(g.getNode('Philippines'), g.getNode('China')))\n",
        "    g.addEdge(Edge(g.getNode('Philippines'), g.getNode('Japan')))\n",
        "    return g"
      ],
      "metadata": {
        "id": "lmr6if9_sCYs"
      },
      "id": "lmr6if9_sCYs",
      "execution_count": null,
      "outputs": []
    },
    {
      "cell_type": "code",
      "source": [
        "def DFS(graph, start, end, path, shortest, toPrint=False):\n",
        "    \"\"\"Assumes graph is a Digraph; current and end are nodes\n",
        "       Returns a shortest path from current to end in graph\"\"\"\n",
        "    path = path + [start]\n",
        "\n",
        "    if toPrint:\n",
        "        print(printPath(path))\n",
        "\n",
        "    # check if the current node is the end node\n",
        "    if start == end:\n",
        "        return path\n",
        "    # explore each child node of the current node\n",
        "    for node in graph.childrenOf(start):\n",
        "        # check if the node has not been visited to avoid cycles\n",
        "        if node not in path:\n",
        "            # recursively call DFS with the child node as the new current\n",
        "            newPath = DFS(graph, node, end, path, shortest, toPrint)\n",
        "\n",
        "            # update shortest path if a new shorter path is found\n",
        "            if newPath is not None and (shortest is None or len(newPath) < len(shortest)):\n",
        "                shortest = newPath\n",
        "\n",
        "    # return shortest path found during the DFS\n",
        "    return shortest\n"
      ],
      "metadata": {
        "id": "-gAJfk3Xcrct"
      },
      "id": "-gAJfk3Xcrct",
      "execution_count": null,
      "outputs": []
    },
    {
      "cell_type": "code",
      "source": [
        "def shortestPath(graph, start, end, toPrint = False):\n",
        "    \"\"\"Assumes graph is a Digraph; start and end are nodes\n",
        "       Returns a shortest path from start to end in graph\"\"\"\n",
        "    return DFS(graph, start, end, [], None, toPrint)"
      ],
      "metadata": {
        "id": "O5g9BGlp0gLe"
      },
      "id": "O5g9BGlp0gLe",
      "execution_count": null,
      "outputs": []
    },
    {
      "cell_type": "code",
      "source": [
        "testSP('Canada', 'Japan')"
      ],
      "metadata": {
        "colab": {
          "base_uri": "https://localhost:8080/"
        },
        "id": "_qhdxxNxtzPM",
        "outputId": "541e0897-b83a-4257-ad94-3447b6e2671b"
      },
      "id": "_qhdxxNxtzPM",
      "execution_count": null,
      "outputs": [
        {
          "output_type": "stream",
          "name": "stdout",
          "text": [
            "Canada\n",
            "Canada->USA\n",
            "Canada->USA->England\n",
            "Canada->USA->England->China\n",
            "Canada->USA->England->China->Philippines\n",
            "Canada->USA->England->China->Philippines->Japan\n",
            "Canada->USA->England->Japan\n",
            "Canada->England\n",
            "Canada->England->USA\n",
            "Canada->England->China\n",
            "Canada->England->China->Philippines\n",
            "Canada->England->China->Philippines->Japan\n",
            "Canada->England->Japan\n",
            "Shortest path from Canada to Japan is Canada->England->Japan\n"
          ]
        }
      ]
    },
    {
      "cell_type": "code",
      "execution_count": null,
      "id": "baecad6d",
      "metadata": {
        "id": "baecad6d"
      },
      "outputs": [],
      "source": [
        "# type your code here using BFS\n",
        "def BFS(graph, start, end, toPrint=False):\n",
        "\n",
        "    # initialize the path with the starting node\n",
        "    initPath = [start]\n",
        "\n",
        "    # initialize the queue with the initial path\n",
        "    pathQueue = [initPath]\n",
        "\n",
        "    # continue BFS traversal until the queue is empty\n",
        "    while len(pathQueue) != 0:\n",
        "        # get and remove the leftmost element in pathQueue\n",
        "        tmpPath = pathQueue.pop(0)\n",
        "\n",
        "        # print the current BFS path if toPrint is True\n",
        "        if toPrint:\n",
        "            print(printPath(tmpPath))\n",
        "\n",
        "        # get the last node in the current path\n",
        "        lastNode = tmpPath[-1]\n",
        "\n",
        "        # check if the last node is the target node (end)\n",
        "        if lastNode == end:\n",
        "            return tmpPath\n",
        "\n",
        "        # explore the neighbors of the last node\n",
        "        for nextNode in graph.childrenOf(lastNode):\n",
        "            # check if neighbor has not been visited\n",
        "            if nextNode not in tmpPath:\n",
        "                # create new path by appending the neighbor to the current path\n",
        "                newPath = tmpPath + [nextNode]\n",
        "\n",
        "                # enqueue new path for further exploration\n",
        "                pathQueue.append(newPath)\n",
        "\n",
        "    # return None if no path is found from start to end\n",
        "    return None\n"
      ]
    },
    {
      "cell_type": "code",
      "source": [
        "def shortestPath(graph, start, end, toPrint = False):\n",
        "    \"\"\"Assumes graph is a Digraph; start and end are nodes\n",
        "       Returns a shortest path from start to end in graph\"\"\"\n",
        "    return BFS(graph, start, end, toPrint)"
      ],
      "metadata": {
        "id": "bOFHwZvx0szY"
      },
      "id": "bOFHwZvx0szY",
      "execution_count": null,
      "outputs": []
    },
    {
      "cell_type": "code",
      "source": [
        "testSP('Canada', 'Japan')"
      ],
      "metadata": {
        "colab": {
          "base_uri": "https://localhost:8080/"
        },
        "id": "id9jVzWn0vTm",
        "outputId": "73232697-a97e-4609-c316-1e6c5be7d008"
      },
      "id": "id9jVzWn0vTm",
      "execution_count": null,
      "outputs": [
        {
          "output_type": "stream",
          "name": "stdout",
          "text": [
            "Canada\n",
            "Canada->USA\n",
            "Canada->England\n",
            "Canada->USA->England\n",
            "Canada->England->USA\n",
            "Canada->England->China\n",
            "Canada->England->Japan\n",
            "Shortest path from Canada to Japan is Canada->England->Japan\n"
          ]
        }
      ]
    },
    {
      "cell_type": "markdown",
      "id": "a8447b32",
      "metadata": {
        "id": "a8447b32"
      },
      "source": [
        "#Type your evaluation about the performance of DFS and BFS"
      ]
    },
    {
      "cell_type": "markdown",
      "source": [
        "It is imperative to know that DFS could perform well in scenarios that have long paths when compared with BFS. On the other hand, the BFS is more suitable for returning the shortest path in an unweighted graph (graphs where edges don't have any values)."
      ],
      "metadata": {
        "id": "9JA9AdPzi6Hl"
      },
      "id": "9JA9AdPzi6Hl"
    },
    {
      "cell_type": "markdown",
      "id": "159ad18e",
      "metadata": {
        "id": "159ad18e"
      },
      "source": [
        "#### Conclusion"
      ]
    },
    {
      "cell_type": "markdown",
      "id": "b384d644",
      "metadata": {
        "id": "b384d644"
      },
      "source": [
        "Depth-First Search (DFS) and Breadth-First Search (BFS) are two commonly used search algorithms. In common knowledge, DFS explores one branch as far as possible before backtracking while BFS explores all neighbors of a node before moving on to the next child node. After doing this activity, I could say that these two search algorithms play a vital role in various domains, the choice between them depends on the specific requirements of the problem and the characteristics of the graph."
      ]
    }
  ],
  "metadata": {
    "kernelspec": {
      "display_name": "Python 3",
      "language": "python",
      "name": "python3"
    },
    "language_info": {
      "codemirror_mode": {
        "name": "ipython",
        "version": 3
      },
      "file_extension": ".py",
      "mimetype": "text/x-python",
      "name": "python",
      "nbconvert_exporter": "python",
      "pygments_lexer": "ipython3",
      "version": "3.7.10"
    },
    "colab": {
      "provenance": []
    }
  },
  "nbformat": 4,
  "nbformat_minor": 5
}