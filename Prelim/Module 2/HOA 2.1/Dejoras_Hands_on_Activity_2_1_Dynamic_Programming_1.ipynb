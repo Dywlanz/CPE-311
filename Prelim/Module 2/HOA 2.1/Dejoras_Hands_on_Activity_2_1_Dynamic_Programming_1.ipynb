{
  "cells": [
    {
      "cell_type": "markdown",
      "source": [
        "# Dejoras"
      ],
      "metadata": {
        "id": "Cso7y-NcTS2G"
      }
    },
    {
      "cell_type": "markdown",
      "metadata": {
        "id": "kGBb6aSyDmtU"
      },
      "source": [
        "# Hands-on Activity 2.1 : Dynamic Programming"
      ]
    },
    {
      "cell_type": "markdown",
      "metadata": {
        "id": "H6rPmEb2DmtV"
      },
      "source": [
        "#### Objective(s):\n",
        "\n",
        "This activity aims to demonstrate how to use dynamic programming to solve problems."
      ]
    },
    {
      "cell_type": "markdown",
      "metadata": {
        "id": "0ol6siklDmtV"
      },
      "source": [
        "#### Intended Learning Outcomes (ILOs):\n",
        "* Differentiate recursion method from dynamic programming to solve problems.\n",
        "* Demonstrate how to  solve real-world problems using dynamic programming\n"
      ]
    },
    {
      "cell_type": "markdown",
      "metadata": {
        "id": "JGIkIBUqDmtV"
      },
      "source": [
        "#### Resources:\n",
        "* Jupyter Notebook\n"
      ]
    },
    {
      "cell_type": "markdown",
      "metadata": {
        "id": "mIvldy3pDmtV"
      },
      "source": [
        "#### Procedures:"
      ]
    },
    {
      "cell_type": "markdown",
      "metadata": {
        "id": "8V70hR98DmtV"
      },
      "source": [
        "1. Create a code that demonstrate how to use recursion method to solve problem"
      ]
    },
    {
      "cell_type": "code",
      "source": [
        "n = int(input(\"Enter number of elements : \"))\n",
        "\n",
        "def list_sum(n):\n",
        "\n",
        "    if n == 0: # if statement for list who have only one value\n",
        "\n",
        "        return 0 # return that one value as it is the sum of the whole list\n",
        "    else:\n",
        "        ele = int(input(\"Enter a number: \"))\n",
        "        return ele + list_sum(n-1)\n",
        "\n",
        "print(list_sum(n))"
      ],
      "metadata": {
        "colab": {
          "base_uri": "https://localhost:8080/"
        },
        "id": "8y9_GgOqFb-9",
        "outputId": "1aaed632-0b82-44b3-f053-f91c9bdf091b"
      },
      "execution_count": null,
      "outputs": [
        {
          "output_type": "stream",
          "name": "stdout",
          "text": [
            "Enter number of elements : 3\n",
            "Enter a number: 5\n",
            "Enter a number: 5\n",
            "Enter a number: 5\n",
            "15\n"
          ]
        }
      ]
    },
    {
      "cell_type": "markdown",
      "metadata": {
        "id": "3vgPZ-qkDmtV"
      },
      "source": [
        "2. Create a program codes that demonstrate how to use dynamic programming to solve the same problem"
      ]
    },
    {
      "cell_type": "code",
      "source": [
        "# using bottom-up approach\n",
        "\n",
        "n = int(input(\"Enter number of elements : \"))\n",
        "\n",
        "def sum_list(n):\n",
        "\n",
        "    storage = []\n",
        "    cumulative_sum = 0\n",
        "    # iterating till the range\n",
        "    for i in range(1, n+1):\n",
        "      ele = int(input(\"Enter element: \"))\n",
        "      # adding the element\n",
        "      cumulative_sum += ele\n",
        "      storage.append(cumulative_sum)\n",
        "    return storage\n",
        "\n",
        "sum_list(n)\n",
        "\n",
        "\n",
        "\n"
      ],
      "metadata": {
        "colab": {
          "base_uri": "https://localhost:8080/"
        },
        "id": "aTQuKVQHG5-W",
        "outputId": "ccc07bbc-07a9-43a7-a8e2-ee92674d3585"
      },
      "execution_count": null,
      "outputs": [
        {
          "name": "stdout",
          "output_type": "stream",
          "text": [
            "Enter number of elements : 3\n",
            "Enter element: 5\n",
            "Enter element: 5\n",
            "Enter element: 5\n"
          ]
        },
        {
          "output_type": "execute_result",
          "data": {
            "text/plain": [
              "[5, 10, 15]"
            ]
          },
          "metadata": {},
          "execution_count": 28
        }
      ]
    },
    {
      "cell_type": "markdown",
      "metadata": {
        "id": "A2iebQ8bDmtV"
      },
      "source": [
        "##### Question:\n",
        "Explain the difference of using the recursion from dynamic programming using the given sample codes to solve the same problem"
      ]
    },
    {
      "cell_type": "markdown",
      "metadata": {
        "id": "RGeaQsB4DmtV"
      },
      "source": [
        "Using recursion is almost the same from using dynamic programming, as you do recursion in dynamic programming to store and reuse the solutions at the expense of expanding space complexity yet optimizes time complexity. The given sample codes focused on getting the sum of the elements inputted by the user. In recursion, the function is ran repeatedly until it reaches the input limit from the user while adding the total. In dynamic programming, smaller subproblems are solved up until to the bigger subproblems using the smaller subproblems that are solved before. That is why it has a lesser time complexity by recycling those subproblems. But for comparison of my two codes, instead of recursion, I used Iteration as I used the other approach of dynamic programming which is bottom-up approach."
      ]
    },
    {
      "cell_type": "markdown",
      "metadata": {
        "id": "6bVZ8HxuDmtV"
      },
      "source": [
        "3. Create a sample program codes to simulate bottom-up dynamic programming"
      ]
    },
    {
      "cell_type": "code",
      "source": [
        "# using bottom-up approach\n",
        "\n",
        "n = int(input(\"Enter number of elements: \"))\n",
        "\n",
        "def prod_list(n):\n",
        "    storage = []\n",
        "    cumulative_product = 1\n",
        "\n",
        "    for i in range(1, n + 1):\n",
        "        ele = int(input(\"Enter element: \"))\n",
        "        cumulative_product *= ele\n",
        "        storage.append(cumulative_product)\n",
        "\n",
        "    return storage\n",
        "\n",
        "prod_list(n)"
      ],
      "metadata": {
        "colab": {
          "base_uri": "https://localhost:8080/"
        },
        "id": "ER3hfGuEMDOe",
        "outputId": "3f28655e-9c8d-4e4c-ef66-5a2aaa70dd08"
      },
      "execution_count": null,
      "outputs": [
        {
          "name": "stdout",
          "output_type": "stream",
          "text": [
            "Enter number of elements: 3\n",
            "Enter element: 4\n",
            "Enter element: 3\n",
            "Enter element: 2\n"
          ]
        },
        {
          "output_type": "execute_result",
          "data": {
            "text/plain": [
              "[4, 12, 24]"
            ]
          },
          "metadata": {},
          "execution_count": 2
        }
      ]
    },
    {
      "cell_type": "markdown",
      "metadata": {
        "id": "zSG8yzhSDmtV"
      },
      "source": [
        "4. Create a sample program codes that simulate tops-down dynamic programming\n"
      ]
    },
    {
      "cell_type": "code",
      "source": [
        "def cube(n, ele, memo = {}):\n",
        "\n",
        "    if n == 0:\n",
        "      return 1\n",
        "\n",
        "    if n == 1:\n",
        "      return ele\n",
        "\n",
        "    memo[n] = ele * cube(n - 1, ele, memo)\n",
        "    print(f\"Element at index {n}: {ele}\")\n",
        "    print(memo)\n",
        "    return memo[n]\n",
        "\n",
        "ele = int(input(\"Enter element: \"))\n",
        "\n",
        "Dict = {}\n",
        "\n",
        "cube(3, ele, Dict)\n"
      ],
      "metadata": {
        "colab": {
          "base_uri": "https://localhost:8080/"
        },
        "id": "onXj9zqRZbDb",
        "outputId": "02914eff-8d89-4588-e032-f10714a42081"
      },
      "execution_count": null,
      "outputs": [
        {
          "output_type": "stream",
          "name": "stdout",
          "text": [
            "Enter element: 5\n",
            "Element at index 2: 5\n",
            "{2: 25}\n",
            "Element at index 3: 5\n",
            "{2: 25, 3: 125}\n"
          ]
        },
        {
          "output_type": "execute_result",
          "data": {
            "text/plain": [
              "125"
            ]
          },
          "metadata": {},
          "execution_count": 73
        }
      ]
    },
    {
      "cell_type": "markdown",
      "metadata": {
        "id": "jLQF1xJ6DmtV"
      },
      "source": [
        "#### Question:\n",
        " Explain the difference between bottom-up from top-down dynamic programming using the given sample codes"
      ]
    },
    {
      "cell_type": "markdown",
      "metadata": {
        "id": "uPg3e8wTDmtV"
      },
      "source": [
        "Bottom-up programming and top-down programming are exact opposites. For this activity, I made the function of the two programs different where bottom-up would get the cumulative product while the top-up would calculate the cube of the given element. As mentioned earlier in explaining dynamic programming, smaller subproblems are solved up until to the bigger subproblems using the smaller subproblems that are solved before. This is the case for bottom-up approach as dynamic programming consists of two approaches. Top-down approach is the opposite of it as it recursively breaks down a problem into smaller subproblems. In this case, the solutions to the subproblems are stored in a dictionary to avoid redundant calculations. Thus, checking if a solution for a specific subproblem is already stored before recalculating it.\n",
        "\n",
        "\n",
        "\n",
        "\n"
      ]
    },
    {
      "cell_type": "markdown",
      "metadata": {
        "id": "DijSC6ZnDmtV"
      },
      "source": [
        "0/1 Knapsack Problem\n",
        "\n",
        "* Analyze three different techniques to solve knapsacks problem\n",
        "1. Recursion\n",
        "2. Dynamic Programming\n",
        "3. Memoization"
      ]
    },
    {
      "cell_type": "code",
      "execution_count": null,
      "metadata": {
        "id": "krypF-BRDmtW"
      },
      "outputs": [],
      "source": [
        "#sample code for knapsack problem using recursion\n",
        "def rec_knapSack(w, wt, val, n):\n",
        "\n",
        "  #base case\n",
        "  #defined as nth item is empty;\n",
        "  #or the capacity w is 0\n",
        "  if n == 0 or w == 0:\n",
        "    return 0\n",
        "\n",
        "  #if weight of the nth item is more than\n",
        "  #the capacity W, then this item cannot be included\n",
        "  #as part of the optimal solution\n",
        "  if(wt[n-1] > w):\n",
        "    return rec_knapSack(w, wt, val, n-1)\n",
        "\n",
        "  #return the maximum of the two cases:\n",
        "  # (1) include the nth item\n",
        "  # (2) don't include the nth item\n",
        "  else:\n",
        "    return max(\n",
        "        val[n-1] + rec_knapSack(w-wt[n-1], wt, val, n-1), rec_knapSack(w, wt, val, n-1)\n",
        "    )"
      ]
    },
    {
      "cell_type": "code",
      "execution_count": null,
      "metadata": {
        "id": "nrWfjz9LDmtW",
        "outputId": "cfa19d23-4469-458e-b422-a70f19af8ef8",
        "colab": {
          "base_uri": "https://localhost:8080/"
        }
      },
      "outputs": [
        {
          "output_type": "execute_result",
          "data": {
            "text/plain": [
              "250"
            ]
          },
          "metadata": {},
          "execution_count": 4
        }
      ],
      "source": [
        "#To test:\n",
        "val = [130, 100, 120] #values for the items\n",
        "wt = [20, 20, 30] #weight of the items\n",
        "w = 50 #knapsack weight capacity\n",
        "n = len(val) #number of items\n",
        "\n",
        "rec_knapSack(w, wt, val, n)"
      ]
    },
    {
      "cell_type": "code",
      "source": [
        "rec_knapSack(50, [10, 20, 30], [60, 100, 120], 3)\n",
        "|\n",
        "|-- rec_knapSack(50, [10, 20, 30], [60, 100, 120], 2)  # Exclude item 3\n",
        "|   |\n",
        "|   |-- rec_knapSack(50, [10, 20, 30], [60, 100, 120], 1)  # Exclude item 2\n",
        "|   |   |\n",
        "|   |   |-- rec_knapSack(50, [10, 20, 30], [60, 100, 120], 0)  # Base case\n",
        "|   |   |   return 0\n",
        "|   |   |\n",
        "|   |   |-- rec_knapSack(30, [10, 20, 30], [60, 100, 120], 0)  # Base case\n",
        "|   |       return 0\n",
        "|   |\n",
        "|   return max(0, rec_knapSack(50, [10, 20, 30], [60, 100, 120], 1))\n",
        "|       |\n",
        "|       |-- rec_knapSack(50, [10, 20, 30], [60, 100, 120], 0)  # Base case\n",
        "|           return 0\n",
        "|\n",
        "return max(120 + rec_knapSack(20, [10, 20, 30], [60, 100, 120], 2), rec_knapSack(50, [10, 20, 30], [60, 100, 120], 2))\n",
        "    |\n",
        "    |-- rec_knapSack(20, [10, 20, 30], [60, 100, 120], 1)  # Include item 3\n",
        "    |   |\n",
        "    |   |-- rec_knapSack(20, [10, 20, 30], [60, 100, 120], 0)  # Base case\n",
        "    |   |   return 0\n",
        "    |   |\n",
        "    |   |-- rec_knapSack(10, [10, 20, 30], [60, 100, 120], 0)  # Base case\n",
        "    |       return 60\n",
        "    |\n",
        "    return max(60 + rec_knapSack(30, [10, 20, 30], [60, 100, 120], 1), rec_knapSack(50, [10, 20, 30], [60, 100, 120], 1))\n",
        "        |\n",
        "        |-- rec_knapSack(30, [10, 20, 30], [60, 100, 120], 0)  # Base case\n",
        "            return 0\n"
      ],
      "metadata": {
        "id": "cojteUHXRtzc"
      },
      "execution_count": null,
      "outputs": []
    },
    {
      "cell_type": "code",
      "source": [
        "\n",
        "I appreciate your clarification. I apologize for the oversight. You are correct. Let's go through the corrected values:\n",
        "\n",
        "rec_knapSack(50, [10, 20, 30], [60, 100, 120], 3):\n",
        "\n",
        "Result: max(120 + rec_knapSack(20, [10, 20, 30], [60, 100, 120], 2), rec_knapSack(50, [10, 20, 30], [60, 100, 120], 2))\n",
        "\n",
        "rec_knapSack(20, [10, 20, 30], [60, 100, 120], 2):\n",
        "\n",
        "Result: max(60 + rec_knapSack(30, [10, 20, 30], [60, 100, 120], 1), rec_knapSack(20, [10, 20, 30], [60, 100, 120], 1))\n",
        "\n",
        "rec_knapSack(30, [10, 20, 30], [60, 100, 120], 1):\n",
        "\n",
        "Result: max(0, rec_knapSack(30, [10, 20, 30], [60, 100, 120], 0))\n",
        "\n",
        "rec_knapSack(30, [10, 20, 30], [60, 100, 120], 0):\n",
        "\n",
        "Result: 0\n",
        "\n",
        "Putting it all together:\n",
        "\n",
        "rec_knapSack(30, [10, 20, 30], [60, 100, 120], 1) returns max(0, 0), which is 0.\n",
        "rec_knapSack(20, [10, 20, 30], [60, 100, 120], 2) returns max(60 + 0, 0), which is 60.\n",
        "rec_knapSack(50, [10, 20, 30], [60, 100, 120], 3) returns max(120 + 60, 60), which is 180."
      ],
      "metadata": {
        "id": "XsALExM_bsBV"
      },
      "execution_count": null,
      "outputs": []
    },
    {
      "cell_type": "code",
      "execution_count": null,
      "metadata": {
        "id": "veJj6RdeDmtW"
      },
      "outputs": [],
      "source": [
        "#Dynamic Programming for the Knapsack Problem\n",
        "def DP_knapSack(w, wt, val, n):\n",
        "  #create the table\n",
        "  table = [[0 for x in range(w+1)] for x in range (n+1)]\n",
        "\n",
        "  #populate the table in a bottom-up approach\n",
        "  for i in range(n+1):\n",
        "    for w in range(w+1):\n",
        "      if i == 0 or w == 0:\n",
        "        table[i][w] = 0\n",
        "      elif wt[i-1] <= w:\n",
        "        table[i][w] = max(val[i-1] + table[i-1][w-wt[i-1]], table[i-1][w])\n",
        "  return table[n][w]"
      ]
    },
    {
      "cell_type": "code",
      "execution_count": null,
      "metadata": {
        "id": "1fPXgJlCDmtW",
        "outputId": "feeca8c5-8269-4768-f4ce-89504b3be594",
        "colab": {
          "base_uri": "https://localhost:8080/"
        }
      },
      "outputs": [
        {
          "output_type": "execute_result",
          "data": {
            "text/plain": [
              "230"
            ]
          },
          "metadata": {},
          "execution_count": 3
        }
      ],
      "source": [
        "#To test:\n",
        "val = [60, 100, 120]\n",
        "wt = [10, 20, 30]\n",
        "w = 50\n",
        "n = len(val)\n",
        "\n",
        "DP_knapSack(w, wt, val, n)"
      ]
    },
    {
      "cell_type": "code",
      "execution_count": null,
      "metadata": {
        "id": "6ODO518jDmtW",
        "outputId": "f28d3e74-c272-47f2-fcc0-16bf593ab212"
      },
      "outputs": [
        {
          "data": {
            "text/plain": [
              "220"
            ]
          },
          "execution_count": 12,
          "metadata": {},
          "output_type": "execute_result"
        }
      ],
      "source": [
        "#Sample for top-down DP approach (memoization)\n",
        "#initialize the list of items\n",
        "val = [60, 100, 120]\n",
        "wt = [10, 20, 30]\n",
        "w = 50\n",
        "n = len(val)\n",
        "\n",
        "#initialize the container for the values that have to be stored\n",
        "#values are initialized to -1\n",
        "calc =[[-1 for i in range(w+1)] for j in range(n+1)]\n",
        "\n",
        "def mem_knapSack(wt, val, w, n):\n",
        "  #base conditions\n",
        "  if n == 0 or w == 0:\n",
        "    return 0\n",
        "  if calc[n][w] != -1:\n",
        "    return calc[n][w]\n",
        "\n",
        "  #compute for the other cases\n",
        "  if wt[n-1] <= w:\n",
        "    calc[n][w] = max(val[n-1] + mem_knapSack(wt, val, w-wt[n-1], n-1),\n",
        "                     mem_knapSack(wt, val, w, n-1))\n",
        "    return calc[n][w]\n",
        "  elif wt[n-1] > w:\n",
        "    calc[n][w] = mem_knapSack(wt, val, w, n-1)\n",
        "    return calc[n][w]\n",
        "\n",
        "mem_knapSack(wt, val, w, n)"
      ]
    },
    {
      "cell_type": "markdown",
      "metadata": {
        "id": "CQHHND6aDmtW"
      },
      "source": [
        "**Code Analysis**\n",
        "\n",
        "1. Recursion      <br>\n",
        "  If the nth item or the capacity is equal to 0. It simply returns 0 as basically it has no value. The next if-statement is that if the weight of a certain object exceeds the capacity, that certain object would remain by returning its default value. Lastly, the else statement is for returning the maximum possible value using the max() function after calculating the possible objects that could be optimized uptil the maximum capacity. That is why the objects that have 20 and 30 as weight are used because 50 is the maximum capacity thus adding up their weights upto 220.\n",
        "\n",
        "2. Dynamic Programming <br>\n",
        "   The table variable was initialized to 0 and is utilized in the table creation process. Next, a nested for loop is constructed, adding the weight capacity and number of objects for each iteration. If the item weight is less than the capacity, the nested for loop computes the total amount and returns the table; otherwise, the if condition inside the loop specifies that either i or w equates to 0.\n",
        "\n",
        "3. Memoization <br>\n",
        "Four parameters are used by the function of memoization. A memoization table is set with a value of -1 which is named as \"calc\". Same with the other two, if the capacity and object(n) is 0. It will return 0. The not equal statement (!=) implies that if n and w has already been stored, it returns that stored result to avoid redundant calculation. For the next if statement, it is the same process of getting the maximum value by using the max() function after calculating the possible objects that could be optimized uptil the maximum capacity. Consequently, the elif statement returns the value as is because the weight exceeds the maximum capacity."
      ]
    },
    {
      "cell_type": "markdown",
      "metadata": {
        "id": "UzXIEaamDmtW"
      },
      "source": [
        "## Seatwork 2.1"
      ]
    },
    {
      "cell_type": "markdown",
      "metadata": {
        "id": "ij1Z0LuCDmtW"
      },
      "source": [
        "Task 1: Modify the three techniques to include additional criterion in the knapsack problems"
      ]
    },
    {
      "cell_type": "code",
      "execution_count": null,
      "metadata": {
        "colab": {
          "base_uri": "https://localhost:8080/"
        },
        "id": "-EQhbbnQDmtW",
        "outputId": "8b13b6dc-a789-449b-a6e2-25a29d24053b"
      },
      "outputs": [
        {
          "output_type": "execute_result",
          "data": {
            "text/plain": [
              "220"
            ]
          },
          "metadata": {},
          "execution_count": 6
        }
      ],
      "source": [
        "#type your code here\n",
        "#Recursion\n",
        "def rec_knapSack(w, wt, val, c, n):\n",
        "\n",
        "  #base case\n",
        "  #defined as nth item is empty;\n",
        "  #or the capacity w is 0\n",
        "  if n == 0 or w == 0:\n",
        "    return 0\n",
        "\n",
        "  #if weight of the nth item is more than\n",
        "  #the capacity W, then this item cannot be included\n",
        "  #as part of the optimal solution\n",
        "  if(wt[n-1] > w):\n",
        "    return rec_knapSack(w, wt, val, c, n-1)\n",
        "\n",
        "  #return the maximum of the two cases:\n",
        "  # (1) include the nth item\n",
        "  # (2) don't include the nth item\n",
        "  else:\n",
        "    return max(\n",
        "        val[n-1] + rec_knapSack(\n",
        "            w-wt[n-1], wt, val, c, n-1),\n",
        "            rec_knapSack(w, wt, val, c, n-1)\n",
        "    )\n",
        "\n",
        "c = [250, 500, 100] #cost for the items\n",
        "val = [60, 100, 120] #values for the items\n",
        "wt = [10, 20, 30] #weight of the items\n",
        "w = 50 #knapsack weight capacity\n",
        "n = len(val) #number of items\n",
        "\n",
        "rec_knapSack(w, wt, val, c, n)\n",
        "\n",
        "\n",
        "#Dynamic\n",
        "def DP_knapSack(w, wt, val, c, n):\n",
        "  #create the table\n",
        "  table = [[0 for x in range(w+1)] for x in range (n+1)]\n",
        "\n",
        "  #populate the table in a bottom-up approach\n",
        "  for i in range(n+1):\n",
        "    for w in range(w+1):\n",
        "      if i == 0 or w == 0:\n",
        "        table[i][w] = 0\n",
        "      elif wt[i-1] <= w:\n",
        "        table[i][w] = max(val[i-1] + table[i-1][w-wt[i-1]],\n",
        "                          table[i-1][w])\n",
        "  return table[n][w]\n",
        "\n",
        "c = [250, 500, 100] #cost for the items\n",
        "val = [60, 100, 120] #values for the items\n",
        "wt = [10, 20, 30] #weight of the items\n",
        "w = 50 #knapsack weight capacity\n",
        "n = len(val) #number of items\n",
        "\n",
        "DP_knapSack(w, wt, val, c, n)\n",
        "\n",
        "\n",
        "\n",
        "#Memoization\n",
        "#initialize the list of items\n",
        "c = [250, 500, 100]\n",
        "val = [60, 100, 120]\n",
        "wt = [10, 20, 30]\n",
        "w = 50\n",
        "n = len(val)\n",
        "\n",
        "#initialize the container for the values that have to be stored\n",
        "#values are initialized to -1\n",
        "calc =[[-1 for i in range(w+1)] for j in range(n+1)]\n",
        "\n",
        "\n",
        "def mem_knapSack(wt, val, w, c, n):\n",
        "  #base conditions\n",
        "  if n == 0 or w == 0:\n",
        "    return 0\n",
        "  if calc[n][w] != -1:\n",
        "    return calc[n][w]\n",
        "\n",
        "  #compute for the other cases\n",
        "  if wt[n-1] <= w:\n",
        "    calc[n][w] = max(val[n-1] + mem_knapSack(wt, val, w-wt[n-1], c, n-1),\n",
        "                     mem_knapSack(wt, val, w, c, n-1))\n",
        "    return calc[n][w]\n",
        "  elif wt[n-1] > w:\n",
        "    calc[n][w] = mem_knapSack(wt, val, w, n-1)\n",
        "    return calc[n][w]\n",
        "\n",
        "mem_knapSack(wt, val, w, c, n)"
      ]
    },
    {
      "cell_type": "markdown",
      "metadata": {
        "id": "7M0Uod9TDmtW"
      },
      "source": [
        "Fibonacci Numbers"
      ]
    },
    {
      "cell_type": "code",
      "execution_count": null,
      "metadata": {
        "id": "pDgZR5L0DmtX",
        "colab": {
          "base_uri": "https://localhost:8080/"
        },
        "outputId": "d1cd4891-11b6-4ed5-f1df-c535eb5dbcf7"
      },
      "outputs": [
        {
          "name": "stdout",
          "output_type": "stream",
          "text": [
            "Enter scale of elements in the fibonacci sequence: 5\n"
          ]
        },
        {
          "output_type": "execute_result",
          "data": {
            "text/plain": [
              "[0, 1, 1, 2, 3, 5]"
            ]
          },
          "metadata": {},
          "execution_count": 76
        }
      ],
      "source": [
        "scale = int(input(\"Enter scale of elements in the fibonacci sequence: \"))\n",
        "\n",
        "def fibTabulation(n):\n",
        "    storage = [0, 1]\n",
        "    for i in range(2, n+1):\n",
        "      storage.append(storage[i-1] + storage[i-2])\n",
        "\n",
        "    return storage\n",
        "\n",
        "fibTabulation(scale)"
      ]
    },
    {
      "cell_type": "markdown",
      "metadata": {
        "id": "46xM8AyHDmtX"
      },
      "source": [
        "*Task* 2: Create a sample program that find the nth number of Fibonacci Series using Dynamic Programming"
      ]
    },
    {
      "cell_type": "code",
      "execution_count": null,
      "metadata": {
        "id": "oEJBEdWBDmtX",
        "colab": {
          "base_uri": "https://localhost:8080/"
        },
        "outputId": "02d92488-d0f0-4c3f-b54b-d7c77d7184d6"
      },
      "outputs": [
        {
          "output_type": "stream",
          "name": "stdout",
          "text": [
            "Enter scale of elements in the fibonacci sequence: 5\n",
            "nth numbers of Fibonacci Series using Dynamic Programming\n",
            "[0, 1, 1, 2, 3]\n"
          ]
        },
        {
          "output_type": "execute_result",
          "data": {
            "text/plain": [
              "[0, 1, 2, 3, 4]"
            ]
          },
          "metadata": {},
          "execution_count": 1
        }
      ],
      "source": [
        "scale = int(input(\"Enter scale of elements in the fibonacci sequence: \"))\n",
        "\n",
        "def fibTabulation(n):\n",
        "    storage = [0, 1]\n",
        "    for i in range(2, n):\n",
        "      storage.append(storage[i-1] + storage[i-2])\n",
        "\n",
        "    return storage\n",
        "\n",
        "\n",
        "result = fibTabulation(scale)\n",
        "def n_fibTabulation(result):\n",
        "    nth_fibo = []\n",
        "    print(result)\n",
        "    for i in range(scale):\n",
        "       nth_fibo.append(i)\n",
        "    return nth_fibo\n",
        "\n",
        "print(\"nth numbers of Fibonacci Series using Dynamic Programming\")\n",
        "n_fibTabulation(result)"
      ]
    },
    {
      "cell_type": "markdown",
      "metadata": {
        "id": "YTWaCCOHDmtX"
      },
      "source": [
        "## Supplementary Problem (HOA 2.1 Submission):\n",
        "* Choose a real-life problem\n",
        "* Use recursion and dynamic programming to solve the problem"
      ]
    },
    {
      "cell_type": "markdown",
      "source": [
        "Recursion <br>\n",
        "This is a problem for fools who have trouble listing up all the desired objects they could carry yet displays recursion effectively. I call this tallying."
      ],
      "metadata": {
        "id": "8mkjLu7uvY7Q"
      }
    },
    {
      "cell_type": "code",
      "execution_count": null,
      "metadata": {
        "id": "d1hsi_IJDmtX",
        "colab": {
          "base_uri": "https://localhost:8080/"
        },
        "outputId": "e35baf23-2eec-4063-a35d-b24f5b544b32"
      },
      "outputs": [
        {
          "output_type": "stream",
          "name": "stdout",
          "text": [
            "Enter number of limited capacity: 3\n",
            "Enter an object you want to carry: Hammer\n",
            "Enter an object you want to carry: Screwdriver\n",
            "Enter an object you want to carry: Facemask\n",
            "The objects you would like to carry are:  Hammer Screwdriver Facemask \n"
          ]
        }
      ],
      "source": [
        "  n = int(input(\"Enter number of limited capacity: \"))\n",
        "\n",
        "def tally(n):\n",
        "\n",
        "    if n == 0:\n",
        "\n",
        "        return \"\"\n",
        "    else:\n",
        "        objects = \"\"\n",
        "        for i in range(n):\n",
        "            m = str(input(\"Enter an object you want to carry: \"))\n",
        "            objects += m + \" \"\n",
        "\n",
        "            return objects + str(tally(n-1))\n",
        "result = tally(n)\n",
        "\n",
        "print(\"The objects you would like to carry are: \" , result)"
      ]
    },
    {
      "cell_type": "markdown",
      "source": [
        "Dynamic programming"
      ],
      "metadata": {
        "id": "9G0dfau_vayH"
      }
    },
    {
      "cell_type": "code",
      "execution_count": null,
      "metadata": {
        "id": "TscsZTCxDmtX",
        "colab": {
          "base_uri": "https://localhost:8080/"
        },
        "outputId": "d8faa6c9-446a-4407-82b0-d95b922a4b39"
      },
      "outputs": [
        {
          "output_type": "stream",
          "name": "stdout",
          "text": [
            "Enter number of limited capacity: 3\n",
            "Enter an object you want to carry for iteration 1: Toothpaste\n",
            "Enter an object you want to carry for iteration 2: Toothbrush\n",
            "Enter an object you want to carry for iteration 3: Dental floss\n",
            "The objects you would like to carry are: ['Dental floss ', 'Toothbrush ', 'Toothpaste ']\n"
          ]
        }
      ],
      "source": [
        "n = int(input(\"Enter number of limited capacity: \"))\n",
        "\n",
        "def tally_bottom_up(n):\n",
        "    objects_table = [\"\"] * n\n",
        "\n",
        "    for i in range(n):\n",
        "        objects = \"\"\n",
        "        m = str(input(f\"Enter an object you want to carry for iteration {i + 1}: \"))\n",
        "        objects += m + \" \"\n",
        "        objects_table[i] = objects\n",
        "\n",
        "    return objects_table\n",
        "\n",
        "resultz = tally_bottom_up(n)\n",
        "resultz.sort()\n",
        "print(\"The objects you would like to carry are:\", resultz)\n"
      ]
    },
    {
      "cell_type": "markdown",
      "metadata": {
        "id": "qFEhHYE2DmtX"
      },
      "source": [
        "#### Conclusion"
      ]
    },
    {
      "cell_type": "markdown",
      "source": [
        "\n",
        "\n",
        "After conducting this Activity, I gained insight on the fundamentals of Dynamic Programming specifically for its two approaches which are bottom-up and top-down approach. These two approaches operate on different ways yet serve the same purpose by avoiding redundant calculation of subproblems by storing them to a certain list or dictionary. This would worsen the space complexity of the program yet eases up the time complexity of it. In general, Dynamic Programming is beneficial when the problem exhibits optimal substructures, as it breaks down the problem into smaller overlapping subproblems, reducing redundancy and improving overall efficiency of the program.\n"
      ],
      "metadata": {
        "id": "pnkjVc4YHUL9"
      }
    },
    {
      "cell_type": "code",
      "source": [
        "n = int(input(\"Enter number of vertices: \"))\n",
        "\n",
        "def graph_connection(n):\n",
        "  if 1 <= n and n <= 100:\n",
        "    if n < 12:\n",
        "      print(\"No\")\n",
        "    else:\n",
        "      print(\"Yes\")\n",
        "\n",
        "graph_connection(n)\n"
      ],
      "metadata": {
        "id": "vvhLBOGgRn2v",
        "colab": {
          "base_uri": "https://localhost:8080/"
        },
        "outputId": "4e453c6d-db4a-48c0-f32b-453a24ca55bd"
      },
      "execution_count": null,
      "outputs": [
        {
          "output_type": "stream",
          "name": "stdout",
          "text": [
            "Enter number of vertices: 12\n",
            "Yes\n"
          ]
        }
      ]
    },
    {
      "cell_type": "code",
      "source": [],
      "metadata": {
        "id": "Iw8ERmysd1AT"
      },
      "execution_count": null,
      "outputs": []
    }
  ],
  "metadata": {
    "kernelspec": {
      "display_name": "base",
      "language": "python",
      "name": "python3"
    },
    "language_info": {
      "codemirror_mode": {
        "name": "ipython",
        "version": 3
      },
      "file_extension": ".py",
      "mimetype": "text/x-python",
      "name": "python",
      "nbconvert_exporter": "python",
      "pygments_lexer": "ipython3",
      "version": "3.10.9"
    },
    "colab": {
      "provenance": []
    }
  },
  "nbformat": 4,
  "nbformat_minor": 0
}